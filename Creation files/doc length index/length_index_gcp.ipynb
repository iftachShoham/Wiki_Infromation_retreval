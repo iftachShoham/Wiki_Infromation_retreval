{
  "nbformat": 4,
  "nbformat_minor": 0,
  "metadata": {
    "colab": {
      "provenance": []
    },
    "kernelspec": {
      "name": "python3",
      "display_name": "Python 3"
    },
    "language_info": {
      "name": "python"
    }
  },
  "cells": [
    {
      "cell_type": "code",
      "execution_count": null,
      "metadata": {
        "id": "NN6RCAjkmeWi"
      },
      "outputs": [],
      "source": [
        "# if the following command generates an error, you probably didn't enable\n",
        "# the cluster security option \"Allow API access to all Google Cloud services\"\n",
        "# under Manage Security → Project Access when setting up the cluster\n",
        "!gcloud dataproc clusters list --region us-central1"
      ]
    },
    {
      "cell_type": "code",
      "source": [
        "!pip install -q google-cloud-storage==1.43.0\n",
        "!pip install -q graphframes"
      ],
      "metadata": {
        "id": "mw46UfGKmmJj"
      },
      "execution_count": null,
      "outputs": []
    },
    {
      "cell_type": "code",
      "source": [
        "import pyspark\n",
        "import sys\n",
        "from collections import Counter, OrderedDict, defaultdict\n",
        "import itertools\n",
        "from itertools import islice, count, groupby\n",
        "import pandas as pd\n",
        "import os\n",
        "import re\n",
        "from operator import itemgetter\n",
        "import nltk\n",
        "from nltk.stem.porter import *\n",
        "from nltk.corpus import stopwords\n",
        "from time import time\n",
        "from pathlib import Path\n",
        "import pickle\n",
        "import pandas as pd\n",
        "from google.cloud import storage\n",
        "\n",
        "import hashlib\n",
        "def _hash(s):\n",
        "    return hashlib.blake2b(bytes(s, encoding='utf8'), digest_size=5).hexdigest()\n",
        "\n",
        "nltk.download('stopwords')"
      ],
      "metadata": {
        "id": "ZW_lHcE0mmHr"
      },
      "execution_count": null,
      "outputs": []
    },
    {
      "cell_type": "code",
      "source": [
        "# if nothing prints here you forgot to include the initialization script when starting the cluster\n",
        "!ls -l /usr/lib/spark/jars/graph*"
      ],
      "metadata": {
        "id": "X0n7tpLXmmFc"
      },
      "execution_count": null,
      "outputs": []
    },
    {
      "cell_type": "code",
      "source": [
        "from pyspark.sql import *\n",
        "from pyspark.sql.functions import *\n",
        "from pyspark import SparkContext, SparkConf, SparkFiles\n",
        "from pyspark.sql import SQLContext\n",
        "from graphframes import *"
      ],
      "metadata": {
        "id": "rtIgjB_5mmDH"
      },
      "execution_count": null,
      "outputs": []
    },
    {
      "cell_type": "code",
      "source": [
        "spark"
      ],
      "metadata": {
        "id": "4-quqM91ml5H"
      },
      "execution_count": null,
      "outputs": []
    },
    {
      "cell_type": "code",
      "source": [
        "# TODO: ADD BUCKET NAME!\n",
        "bucket_name = 'YOUR_BUCKET_NAME_HERE'"
      ],
      "metadata": {
        "id": "hWORXZNsmtX0"
      },
      "execution_count": null,
      "outputs": []
    },
    {
      "cell_type": "code",
      "source": [
        "# If some files are in the way you can rerun this.\n",
        "full_path = f\"gs://{bucket_name}/\"\n",
        "paths=[]\n",
        "blobs = client.list_blobs(bucket_name)\n",
        "client = storage.Client()\n",
        "for b in blobs:\n",
        "    if b.name != 'graphframes.sh' and not b.name.startswith(\"postings_gcp\"):\n",
        "        paths.append(full_path+b.name)"
      ],
      "metadata": {
        "id": "lW9rm1cLmtWA"
      },
      "execution_count": null,
      "outputs": []
    },
    {
      "cell_type": "code",
      "source": [
        "parquetFile = spark.read.parquet(*paths)\n",
        "doc_text_pairs = parquetFile.select(\"text\", \"id\").rdd"
      ],
      "metadata": {
        "id": "rN2JadHkmtT0"
      },
      "execution_count": null,
      "outputs": []
    },
    {
      "cell_type": "code",
      "source": [
        "# Count number of wiki pages\n",
        "# I will want to use this later for tf-idf\n",
        "parquetFile.count()"
      ],
      "metadata": {
        "id": "66olOCjcmtRq"
      },
      "execution_count": null,
      "outputs": []
    },
    {
      "cell_type": "code",
      "source": [
        "english_stopwords = frozenset(stopwords.words('english'))\n",
        "corpus_stopwords = [\"category\", \"references\", \"also\", \"external\", \"links\",\n",
        "                    \"may\", \"first\", \"see\", \"history\", \"people\", \"one\", \"two\",\n",
        "                    \"part\", \"thumb\", \"including\", \"second\", \"following\",\n",
        "                    \"many\", \"however\", \"would\", \"became\"]\n",
        "\n",
        "all_stopwords = english_stopwords.union(corpus_stopwords)\n",
        "RE_WORD = re.compile(r\"\"\"[\\#\\@\\w](['\\-]?\\w){2,24}\"\"\", re.UNICODE)\n",
        "\n",
        "NUM_BUCKETS = 124\n",
        "def token2bucket_id(token):\n",
        "  return int(_hash(token),16) % NUM_BUCKETS\n"
      ],
      "metadata": {
        "id": "GLQQGK5JmtPY"
      },
      "execution_count": null,
      "outputs": []
    },
    {
      "cell_type": "code",
      "source": [
        "def word_count(text, id):\n",
        "    ''' Count the frequency of each word in `text` (tf) that is not included in\n",
        "    `all_stopwords` and return entries that will go into our posting lists.\n",
        "    Parameters:\n",
        "    -----------\n",
        "      text: str\n",
        "        Text of one document\n",
        "      id: int\n",
        "        Document id\n",
        "    Returns:\n",
        "    --------\n",
        "      Tuple\n",
        "        (doc_id, len_after_removing_of_words)\n",
        "    '''\n",
        "    tokens = [token.group() for token in RE_WORD.finditer(text.lower())]\n",
        "    # Filter out stopwords\n",
        "    tokens = [token for token in tokens if token not in all_stopwords]\n",
        "    # Calculate the length after removing stopwords\n",
        "    len_after_removing_of_words = len(tokens)\n",
        "    return (id, len_after_removing_of_words)"
      ],
      "metadata": {
        "id": "9mbS76c6mtM8"
      },
      "execution_count": null,
      "outputs": []
    },
    {
      "cell_type": "code",
      "source": [
        "\n",
        "# Calculate word counts for all documents\n",
        "word_counts = doc_text_pairs.map(lambda x: word_count(x.text, x.id))\n",
        "\n",
        "# Convert RDD to DataFrame\n",
        "word_counts_df = word_counts.toDF(['id', 'word_count'])\n",
        "\n",
        "# Write word counts to CSV in Google Cloud Storage\n",
        "output_path = f'gs://{bucket_name}/word_counts'\n",
        "word_counts_df.repartition(1).write.csv(output_path, compression=\"gzip\")\n"
      ],
      "metadata": {
        "id": "_RfG_ofHmtKk"
      },
      "execution_count": null,
      "outputs": []
    }
  ]
}