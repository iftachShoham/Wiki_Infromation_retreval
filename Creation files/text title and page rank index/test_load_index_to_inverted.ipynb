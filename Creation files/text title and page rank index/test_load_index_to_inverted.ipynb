{
  "nbformat": 4,
  "nbformat_minor": 0,
  "metadata": {
    "colab": {
      "provenance": []
    },
    "kernelspec": {
      "name": "python3",
      "display_name": "Python 3"
    },
    "language_info": {
      "name": "python"
    }
  },
  "cells": [
    {
      "cell_type": "code",
      "execution_count": null,
      "metadata": {
        "id": "DPeb0eMu6SFa"
      },
      "outputs": [],
      "source": [
        "import csv\n",
        "import gzip\n",
        "import io\n",
        "import sys\n",
        "from collections import Counter, OrderedDict\n",
        "import itertools\n",
        "from itertools import islice, count, groupby\n",
        "import pandas as pd\n",
        "import os\n",
        "import re\n",
        "from operator import itemgetter\n",
        "import nltk\n",
        "from nltk.stem.porter import *\n",
        "from nltk.corpus import stopwords\n",
        "from time import time\n",
        "from timeit import timeit\n",
        "from pathlib import Path\n",
        "import pickle\n",
        "import pandas as pd\n",
        "import numpy as np\n",
        "from google.cloud import storage\n",
        "\n",
        "import hashlib\n",
        "def _hash(s):\n",
        "    return hashlib.blake2b(bytes(s, encoding='utf8'), digest_size=5).hexdigest()\n",
        "\n",
        "nltk.download('stopwords')\n",
        "\n",
        "from inverted_index_gcp import *"
      ]
    },
    {
      "cell_type": "code",
      "source": [
        "# Install a particular version of `google-cloud-storage` because (oddly enough)\n",
        "# the  version on Colab and GCP is old. A dependency error below is okay.\n",
        "!pip install -q google-cloud-storage==1.43.0"
      ],
      "metadata": {
        "id": "gnPhzIq46ddY"
      },
      "execution_count": null,
      "outputs": []
    },
    {
      "cell_type": "code",
      "source": [
        "# authenticate below for Google Storage access as needed\n",
        "from google.colab import auth\n",
        "auth.authenticate_user()"
      ],
      "metadata": {
        "id": "IJ8TpFO16dbi"
      },
      "execution_count": null,
      "outputs": []
    },
    {
      "cell_type": "code",
      "source": [
        "bucket_name = \"bucket_ir_102\"\n",
        "base_dir = \"postings_gcp\""
      ],
      "metadata": {
        "id": "Gt5_lMHW6dZs"
      },
      "execution_count": null,
      "outputs": []
    },
    {
      "cell_type": "code",
      "source": [
        "# Reading the inverted index.\n",
        "invertedIndex = InvertedIndex.read_index(base_dir,\"index\",bucket_name)"
      ],
      "metadata": {
        "id": "Ic480K2YEtPh"
      },
      "execution_count": null,
      "outputs": []
    },
    {
      "cell_type": "code",
      "source": [
        "# Example of reading pl.\n",
        "pl1 = invertedIndex.read_a_posting_list(base_dir,\"violets\",bucket_name)\n",
        "\n",
        "count=0\n",
        "for key, value in pl1:\n",
        "    count += 1\n",
        "    print(f'{key},{value}')\n",
        "    if count == 100:\n",
        "        break"
      ],
      "metadata": {
        "id": "tRje-WPV6dXy"
      },
      "execution_count": null,
      "outputs": []
    },
    {
      "cell_type": "code",
      "source": [
        "# Testing time for extracting 10 pl from the inverted index.\n",
        "import time\n",
        "\n",
        "words = [\"Elephant\",\n",
        "\"Sunshine\",\n",
        "\"Computer\",\n",
        "\"Mountain\",\n",
        "\"Happiness\",\n",
        "\"Adventure\",\n",
        "\"Chocolate\",\n",
        "\"Universe\",\n",
        "\"Guitar\",\n",
        "\"Friendship\"]\n",
        "\n",
        "# Start the timer\n",
        "start_time = time.time()\n",
        "\n",
        "for w in words:\n",
        "  invertedIndex.read_a_posting_list(base_dir,w,bucket_name)\n",
        "\n",
        "# Calculate and print the elapsed time\n",
        "elapsed_time = time.time() - start_time\n",
        "print(f\"Elapsed time: {elapsed_time} seconds\")"
      ],
      "metadata": {
        "id": "keNgzO9OFlw5"
      },
      "execution_count": null,
      "outputs": []
    }
  ]
}