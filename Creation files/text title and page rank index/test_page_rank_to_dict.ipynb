{
  "nbformat": 4,
  "nbformat_minor": 0,
  "metadata": {
    "colab": {
      "provenance": []
    },
    "kernelspec": {
      "name": "python3",
      "display_name": "Python 3"
    },
    "language_info": {
      "name": "python"
    }
  },
  "cells": [
    {
      "cell_type": "code",
      "execution_count": null,
      "metadata": {
        "id": "MimsY8afw7x9"
      },
      "outputs": [],
      "source": [
        "# download nltk stopwords\n",
        "import nltk\n",
        "nltk.download('stopwords')"
      ]
    },
    {
      "cell_type": "code",
      "source": [
        "# Install a particular version of `google-cloud-storage` because (oddly enough)\n",
        "# the  version on Colab and GCP is old. A dependency error below is okay.\n",
        "!pip install -q google-cloud-storage==1.43.0"
      ],
      "metadata": {
        "id": "v4IB_e_SxD1k"
      },
      "execution_count": null,
      "outputs": []
    },
    {
      "cell_type": "code",
      "source": [
        "# authenticate below for Google Storage access as needed\n",
        "from google.colab import auth\n",
        "auth.authenticate_user()"
      ],
      "metadata": {
        "id": "P4kA_zacxDza"
      },
      "execution_count": null,
      "outputs": []
    },
    {
      "cell_type": "code",
      "source": [
        "from google.cloud import storage\n",
        "import csv\n",
        "import gzip\n",
        "import io\n"
      ],
      "metadata": {
        "id": "vrohx-cw1aQ_"
      },
      "execution_count": null,
      "outputs": []
    },
    {
      "cell_type": "code",
      "source": [
        "bucket_name = \"bucket_ir_100\"\n",
        "file_name = \"pr/part-00000-bba051bd-4ed5-42d2-ac51-b81e7da0af95-c000.csv.gz\""
      ],
      "metadata": {
        "id": "7HGKmKaf2lqd"
      },
      "execution_count": null,
      "outputs": []
    },
    {
      "cell_type": "code",
      "source": [
        "def check_bucket_existence(bucket_name):\n",
        "    storage_client = storage.Client()\n",
        "    try:\n",
        "        bucket = storage_client.get_bucket(bucket_name)\n",
        "        return True\n",
        "    except Exception as e:\n",
        "        return False\n",
        "\n",
        "\n",
        "if check_bucket_existence(bucket_name):\n",
        "    print(\"Bucket exists.\")\n",
        "else:\n",
        "    print(\"Bucket does not exist.\")"
      ],
      "metadata": {
        "id": "p5wpQcxd2q0v"
      },
      "execution_count": null,
      "outputs": []
    },
    {
      "cell_type": "code",
      "source": [
        "def list_folder_contents(bucket_name, folder_name):\n",
        "    storage_client = storage.Client()\n",
        "    bucket = storage_client.bucket(bucket_name)\n",
        "    blobs = bucket.list_blobs(prefix=folder_name)\n",
        "\n",
        "    if blobs:\n",
        "        print(f\"Contents of folder '{folder_name}':\")\n",
        "        for blob in blobs:\n",
        "            print(blob.name)\n",
        "    else:\n",
        "        print(f\"Folder '{folder_name}' does not exist or is empty.\")\n",
        "\n",
        "folder_name = \"pr/\"\n",
        "\n",
        "list_folder_contents(bucket_name, folder_name)"
      ],
      "metadata": {
        "id": "G4zg8g7o3WCU"
      },
      "execution_count": null,
      "outputs": []
    },
    {
      "cell_type": "code",
      "source": [
        "def check_file_existence(bucket_name, file_name):\n",
        "    storage_client = storage.Client()\n",
        "    bucket = storage_client.bucket(bucket_name)\n",
        "    blob = bucket.blob(file_name)\n",
        "    return blob.exists()\n",
        "\n",
        "\n",
        "if check_file_existence(bucket_name, file_name):\n",
        "    print(\"File exists.\")\n",
        "else:\n",
        "    print(\"File does not exist.\")"
      ],
      "metadata": {
        "id": "ImHM4xBx26D5"
      },
      "execution_count": null,
      "outputs": []
    },
    {
      "cell_type": "code",
      "source": [
        "def read_csv_gzip_to_dict(bucket_name, file_name):\n",
        "    storage_client = storage.Client()\n",
        "    bucket = storage_client.bucket(bucket_name)\n",
        "    blob = bucket.blob(file_name)\n",
        "\n",
        "    # Download the file as bytes\n",
        "    content = blob.download_as_string()\n",
        "\n",
        "    # Decompress the gzip file and read it as a CSV\n",
        "    with gzip.open(io.BytesIO(content), \"rt\") as gzip_file:\n",
        "        csv_reader = csv.reader(gzip_file)\n",
        "        header = next(csv_reader)  # Assuming the first row is the header\n",
        "        data = {int(row[0]): float(row[1]) for row in csv_reader}\n",
        "\n",
        "    return data"
      ],
      "metadata": {
        "id": "cr0KfpfI0RK_"
      },
      "execution_count": null,
      "outputs": []
    },
    {
      "cell_type": "code",
      "source": [
        "data = read_csv_gzip_to_dict(bucket_name, file_name)"
      ],
      "metadata": {
        "id": "j7xsvx3r4vTN"
      },
      "execution_count": null,
      "outputs": []
    },
    {
      "cell_type": "code",
      "source": [
        "# Print the first 20 items in the data dictionary\n",
        "count = 0\n",
        "for key, value in data.items():\n",
        "    print(f\"{key}: {value}\")\n",
        "    count += 1\n",
        "    if count == 20:\n",
        "        break"
      ],
      "metadata": {
        "id": "UvpbfG_N4QQj"
      },
      "execution_count": null,
      "outputs": []
    },
    {
      "cell_type": "code",
      "source": [
        "# Check to see time is good for getting 100 items from it.\n",
        "import time\n",
        "\n",
        "# Start the timer\n",
        "start_time = time.time()\n",
        "\n",
        "count = 0\n",
        "for key, value in data.items():\n",
        "    count += 1\n",
        "    if count == 100:\n",
        "        break\n",
        "\n",
        "# Calculate and print the elapsed time\n",
        "elapsed_time = time.time() - start_time\n",
        "print(f\"Elapsed time: {elapsed_time} seconds\")"
      ],
      "metadata": {
        "colab": {
          "base_uri": "https://localhost:8080/"
        },
        "id": "1qP6fHTB5b3W",
        "outputId": "01cf9fb9-fc6c-450b-cf92-5be527a71094"
      },
      "execution_count": null,
      "outputs": [
        {
          "output_type": "stream",
          "name": "stdout",
          "text": [
            "Elapsed time: 0.00025010108947753906 seconds\n"
          ]
        }
      ]
    }
  ]
}